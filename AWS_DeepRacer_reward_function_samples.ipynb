{
  "nbformat": 4,
  "nbformat_minor": 0,
  "metadata": {
    "colab": {
      "provenance": [],
      "collapsed_sections": [
        "3y0cnQLj_ZIW"
      ]
    },
    "kernelspec": {
      "name": "python3",
      "display_name": "Python 3"
    },
    "language_info": {
      "name": "python"
    }
  },
  "cells": [
    {
      "cell_type": "markdown",
      "source": [
        "# AWS DeepRacer Reward function sample codes\n"
      ],
      "metadata": {
        "id": "Ev4GGzIqo5GT"
      }
    },
    {
      "cell_type": "markdown",
      "source": [
        "## Example 1: Follow the Center Line in Time Trials\n",
        "\n",
        "This example determines how far away the agent is from the center line, and gives higher reward if it is closer to the center of the track, encouraging the agent to closely follow the center line.\n"
      ],
      "metadata": {
        "id": "3Z01fQ5Ks_8C"
      }
    },
    {
      "cell_type": "code",
      "source": [
        "def reward_function(params):\n",
        "  '''\n",
        "  Example of rewarding the agent to follow center line\n",
        "  '''\n",
        "\n",
        "  # Read input parameters\n",
        "  track_width = params['track_width']\n",
        "  distance_from_center = params['distance_from_center']\n",
        "  \n",
        "  # Calculate 3 markers that are increasingly further away from the center line\n",
        "  marker_1 = 0.1 * track_width\n",
        "  marker_2 = 0.25 * track_width\n",
        "  marker_3 = 0.5 * track_width\n",
        "\n",
        "  # Give higher reward if the car is closer to center line and vice versa\n",
        "  if distance_from_center <= marker_1:\n",
        "    reward = 1\n",
        "  elif distance_from_center <= marker_2:\n",
        "    reward = 0.5\n",
        "  elif distance_from_center <= marker_3:\n",
        "    reward = 0.1\n",
        "  else:\n",
        "    reward = 1e-3 # likely crashed/ close to off track\n",
        "  \n",
        "  return reward"
      ],
      "metadata": {
        "id": "IJWeXOrUoH3r"
      },
      "execution_count": null,
      "outputs": []
    },
    {
      "cell_type": "markdown",
      "source": [
        "## Example 2: Stay Inside the Two Borders in Time Trials\n",
        "\n",
        "This example simply gives high rewards if the agent stays inside the borders, and let the agent figure out what is the best path to finish a lap. It is easy to program and understand, but likely takes longer to converge."
      ],
      "metadata": {
        "id": "fj8brfbxtjXs"
      }
    },
    {
      "cell_type": "code",
      "source": [
        "def reward_function(params):\n",
        "  '''\n",
        "  Example of rewarding the agent to stay inside the two borders of the track\n",
        "  '''\n",
        "\n",
        "  # Read input parameters\n",
        "  all_wheels_on_track = params['all_wheels_on_track']\n",
        "  distance_from_center = params['distance_from_center']\n",
        "  track_width = params['track_width']\n",
        "\n",
        "  # Give a very low reward by default\n",
        "  reward = 1e-3\n",
        "  \n",
        "  # Give a high reward if no wheels go off the track and\n",
        "  # the car is somewhere in between the track borders\n",
        "  if all_wheels_on_track and (0.5*track_width - distance_from_center) >= 0.05:\n",
        "    reward = 1.0\n",
        "  \n",
        "  # Always return a float value\n",
        "  return reward"
      ],
      "metadata": {
        "id": "1IL5K-ubtn5v"
      },
      "execution_count": null,
      "outputs": []
    },
    {
      "cell_type": "markdown",
      "source": [
        "## Example 3: Prevent Zig-Zag in Time Trials\n",
        "\n",
        "This example incentivizes the agent to follow the center line but penalizes with lower reward if it steers too much, which helps prevent zig-zag behavior. The agent learns to drive smoothly in the simulator and likely keeps the same behavior when deployed in the physical vehicle."
      ],
      "metadata": {
        "id": "eX6SEsSauARH"
      }
    },
    {
      "cell_type": "code",
      "source": [
        "def reward_function(params):\n",
        "  '''\n",
        "  Example of penalize steering, which helps mitigate zig-zag behaviors\n",
        "  '''\n",
        "  # Read input parameters\n",
        "  distance_from_center = params['distance_from_center']\n",
        "  track_width = params['track_width']\n",
        "  abs_steering = abs(params['steering_angle']) # Only need the absolute steering angle\n",
        "  \n",
        "  # Calculate 3 marks that are farther and father away from the center line\n",
        "  marker_1 = 0.1 * track_width\n",
        "  marker_2 = 0.25 * track_width\n",
        "  marker_3 = 0.5 * track_width\n",
        "  \n",
        "  # Give higher reward if the car is closer to center line and vice versa\n",
        "  if distance_from_center <= marker_1:\n",
        "    reward = 1.0\n",
        "  elif distance_from_center <= marker_2:\n",
        "    reward = 0.5\n",
        "  elif distance_from_center <= marker_3:\n",
        "    reward = 0.1\n",
        "  else:\n",
        "    reward = 1e-3 # likely crashed/ close to off track\n",
        "  \n",
        "  # Steering penality threshold, change the number based on your action space setting\n",
        "  ABS_STEERING_THRESHOLD = 15\n",
        "  # Penalize reward if the car is steering too much\n",
        "  if abs_steering > ABS_STEERING_THRESHOLD:\n",
        "    reward *= 0.8\n",
        "    \n",
        "  return float(reward)"
      ],
      "metadata": {
        "id": "ocxkdLOnuH6P"
      },
      "execution_count": null,
      "outputs": []
    },
    {
      "cell_type": "markdown",
      "source": [
        "## Example 4: Stay in One Lane without Crashing into Stationary Obstacles or Moving Vehicles\n",
        "\n",
        "This reward function rewards the agent for staying inside the track's borders and penalizes the agent for getting too close to objects in front of it. The agent can move from lane to lane to avoid crashes. The total reward is a weighted sum of the reward and penalty. The example gives more weight to the penalty in effort to avoid crashes. Experiment with different averaging weights to train for different behavior outcomes."
      ],
      "metadata": {
        "id": "BKiMYZh8u5Do"
      }
    },
    {
      "cell_type": "code",
      "source": [
        "def reward_function(params):\n",
        "    '''\n",
        "    Example of rewarding the agent to stay inside two borders\n",
        "    and penalizing getting too close to the objects in front\n",
        "    '''\n",
        "\n",
        "    all_wheels_on_track = params['all_wheels_on_track']\n",
        "    distance_from_center = params['distance_from_center']\n",
        "    track_width = params['track_width']\n",
        "    objects_distance = params['objects_distance']\n",
        "    _, next_object_index = params['closest_objects']\n",
        "    objects_left_of_center = params['objects_left_of_center']\n",
        "    is_left_of_center = params['is_left_of_center']\n",
        "\n",
        "    # Initialize reward with a small number but not zero\n",
        "    # because zero means off-track or crashed\n",
        "    reward = 1e-3\n",
        "\n",
        "    # Reward if the agent stays inside the two borders of the track\n",
        "    if all_wheels_on_track and (0.5 * track_width - distance_from_center) >= 0.05:\n",
        "        reward_lane = 1.0\n",
        "    else:\n",
        "        reward_lane = 1e-3\n",
        "\n",
        "    # Penalize if the agent is too close to the next object\n",
        "    reward_avoid = 1.0\n",
        "\n",
        "    # Distance to the next object\n",
        "    distance_closest_object = objects_distance[next_object_index]\n",
        "    # Decide if the agent and the next object is on the same lane\n",
        "    is_same_lane = objects_left_of_center[next_object_index] == is_left_of_center\n",
        "\n",
        "    if is_same_lane:\n",
        "        if 0.5 <= distance_closest_object < 0.8: \n",
        "            reward_avoid *= 0.5\n",
        "        elif 0.3 <= distance_closest_object < 0.5:\n",
        "            reward_avoid *= 0.2\n",
        "        elif distance_closest_object < 0.3:\n",
        "            reward_avoid = 1e-3 # Likely crashed\n",
        "\n",
        "    # Calculate reward by putting different weights on \n",
        "    # the two aspects above\n",
        "    reward += 1.0 * reward_lane + 4.0 * reward_avoid\n",
        "\n",
        "    return reward"
      ],
      "metadata": {
        "id": "-PL7Ig34Aye6"
      },
      "execution_count": null,
      "outputs": []
    },
    {
      "cell_type": "markdown",
      "source": [
        "## End of Code"
      ],
      "metadata": {
        "id": "3y0cnQLj_ZIW"
      }
    }
  ]
}